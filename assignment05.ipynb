{
  "nbformat": 4,
  "nbformat_minor": 0,
  "metadata": {
    "colab": {
      "name": "assignment05.ipynb",
      "provenance": []
    },
    "kernelspec": {
      "name": "python3",
      "display_name": "Python 3"
    }
  },
  "cells": [
    {
      "cell_type": "code",
      "metadata": {
        "id": "3Qgt4fYxv3wz",
        "colab_type": "code",
        "colab": {
          "base_uri": "https://localhost:8080/",
          "height": 54
        },
        "outputId": "5df82dd9-1173-4930-a55d-5ec34c5d503f"
      },
      "source": [
        "#calculate the lenth of a string\n",
        "str = input(\"Enter a string: \")\n",
        "counter = 0\n",
        "for s in str:\n",
        "      counter = counter+1\n",
        "print(\"Length of the input string is:\", counter)"
      ],
      "execution_count": 1,
      "outputs": [
        {
          "output_type": "stream",
          "text": [
            "Enter a string: 45\n",
            "Length of the input string is: 2\n"
          ],
          "name": "stdout"
        }
      ]
    },
    {
      "cell_type": "code",
      "metadata": {
        "id": "WOF8-JZhwXbY",
        "colab_type": "code",
        "colab": {
          "base_uri": "https://localhost:8080/",
          "height": 35
        },
        "outputId": "ae563ad1-053d-4521-80bd-fec2d845efae"
      },
      "source": [
        "#count  thenumber  of character\n",
        "def char_frequency(str1):\n",
        "    dict = {}\n",
        "    for n in str1:\n",
        "        keys = dict.keys()\n",
        "        if n in keys:\n",
        "            dict[n] += 1\n",
        "        else:\n",
        "            dict[n] = 1\n",
        "    return dict\n",
        "print(char_frequency('google.com'))"
      ],
      "execution_count": 2,
      "outputs": [
        {
          "output_type": "stream",
          "text": [
            "{'g': 2, 'o': 3, 'l': 1, 'e': 1, '.': 1, 'c': 1, 'm': 1}\n"
          ],
          "name": "stdout"
        }
      ]
    },
    {
      "cell_type": "code",
      "metadata": {
        "id": "bzXW6pv3xC7B",
        "colab_type": "code",
        "colab": {
          "base_uri": "https://localhost:8080/",
          "height": 35
        },
        "outputId": "13ad4b57-a145-427f-8e46-21bf987ce1b0"
      },
      "source": [
        "    def chars_mix_up(a, b):  \n",
        "      new_a = b[:2] + a[2:]  \n",
        "      new_b = a[:2] + b[2:]  \n",
        "      \n",
        "      return new_a + ' ' + new_b  \n",
        "    print(chars_mix_up('abc', 'xyz'))  \n"
      ],
      "execution_count": 5,
      "outputs": [
        {
          "output_type": "stream",
          "text": [
            "xyc abz\n"
          ],
          "name": "stdout"
        }
      ]
    },
    {
      "cell_type": "code",
      "metadata": {
        "id": "ZHnIJ39CzZXx",
        "colab_type": "code",
        "colab": {
          "base_uri": "https://localhost:8080/",
          "height": 72
        },
        "outputId": "59a458d3-c973-4e19-c370-c07a508a106d"
      },
      "source": [
        "user_input = input(\"What's your favourite language? \")\n",
        "print(\"My favourite language is \", user_input.upper())\n",
        "print(\"My favourite language is \", user_input.lower())"
      ],
      "execution_count": 7,
      "outputs": [
        {
          "output_type": "stream",
          "text": [
            "What's your favourite language? instra\n",
            "My favourite language is  INSTRA\n",
            "My favourite language is  instra\n"
          ],
          "name": "stdout"
        }
      ]
    },
    {
      "cell_type": "code",
      "metadata": {
        "id": "bnguq9XhzzVW",
        "colab_type": "code",
        "colab": {
          "base_uri": "https://localhost:8080/",
          "height": 72
        },
        "outputId": "83315aaa-a240-4df1-c8a8-ff0ad5604537"
      },
      "source": [
        "str1='Python Exercises\\n'\n",
        "print(str1)\n",
        "print(str1.rstrip())"
      ],
      "execution_count": 9,
      "outputs": [
        {
          "output_type": "stream",
          "text": [
            "Python Exercises\n",
            "\n",
            "Python Exercises\n"
          ],
          "name": "stdout"
        }
      ]
    },
    {
      "cell_type": "code",
      "metadata": {
        "id": "yTjnnNHx0NZw",
        "colab_type": "code",
        "colab": {
          "base_uri": "https://localhost:8080/",
          "height": 72
        },
        "outputId": "19724743-44f5-4f4f-df62-11ec02397336"
      },
      "source": [
        "str1 = 'The quick brown fox jumps over the lazy dog.'\n",
        "print()\n",
        "print(str1.count(\"fox\"))\n",
        "print()\n"
      ],
      "execution_count": 10,
      "outputs": [
        {
          "output_type": "stream",
          "text": [
            "\n",
            "1\n",
            "\n"
          ],
          "name": "stdout"
        }
      ]
    },
    {
      "cell_type": "code",
      "metadata": {
        "id": "X69AEc1r0mbm",
        "colab_type": "code",
        "colab": {
          "base_uri": "https://localhost:8080/",
          "height": 35
        },
        "outputId": "fbd9bd8e-13ff-4330-8514-48978c05d277"
      },
      "source": [
        "\n",
        "# Python code to convert string to list \n",
        "  \n",
        "def Convert(string): \n",
        "    li = list(string.split(\" \")) \n",
        "    return li \n",
        "  \n",
        "# Driver code     \n",
        "str1 = \" me myself meonly\"\n",
        "print(Convert(str1)) \n"
      ],
      "execution_count": 11,
      "outputs": [
        {
          "output_type": "stream",
          "text": [
            "['', 'me', 'myself', 'meonly']\n"
          ],
          "name": "stdout"
        }
      ]
    },
    {
      "cell_type": "code",
      "metadata": {
        "id": "744nsxFN0uuG",
        "colab_type": "code",
        "colab": {
          "base_uri": "https://localhost:8080/",
          "height": 35
        },
        "outputId": "2bda374d-9ad8-448e-90f8-c1d9b0239279"
      },
      "source": [
        "# Removes character at index i \n",
        "def remove(string, i):  \n",
        "  \n",
        "   \n",
        "    a = string[ : i]  \n",
        "      \n",
        "    \n",
        "    b = string[i + 1: ] \n",
        "      \n",
        "    \n",
        "    return a + b \n",
        "      \n",
        "\n",
        "if __name__ == '__main__': \n",
        "      \n",
        "    string = \"meforyou\"\n",
        "      \n",
        "    # Remove nth index element \n",
        "    i = 5\n",
        "    \n",
        "    # Print the new string \n",
        "    print(remove(string, i)) "
      ],
      "execution_count": 13,
      "outputs": [
        {
          "output_type": "stream",
          "text": [
            "meforou\n"
          ],
          "name": "stdout"
        }
      ]
    },
    {
      "cell_type": "code",
      "metadata": {
        "id": "F3Rn-mmN1sHT",
        "colab_type": "code",
        "colab": {
          "base_uri": "https://localhost:8080/",
          "height": 164
        },
        "outputId": "1bcf79a7-1c67-4a60-ac81-fb85e49b051a"
      },
      "source": [
        "word=\"attitude\"\n",
        "for index,letter in enumerate(word,1):\n",
        "    print(index,\":\",letter)"
      ],
      "execution_count": 15,
      "outputs": [
        {
          "output_type": "stream",
          "text": [
            "1 : a\n",
            "2 : t\n",
            "3 : t\n",
            "4 : i\n",
            "5 : t\n",
            "6 : u\n",
            "7 : d\n",
            "8 : e\n"
          ],
          "name": "stdout"
        }
      ]
    },
    {
      "cell_type": "code",
      "metadata": {
        "id": "PQADpJKD2RAj",
        "colab_type": "code",
        "colab": {
          "base_uri": "https://localhost:8080/",
          "height": 54
        },
        "outputId": "2129a477-3c5f-4c45-ecb1-f0e117732cdf"
      },
      "source": [
        "str = input(\"Enter a string: \")\n",
        "\n",
        "# counter variable to count the character in a string\n",
        "counter = 0\n",
        "for s in str:\n",
        "      counter = counter+1\n",
        "print(\"Length of the input string is:\", counter)"
      ],
      "execution_count": 16,
      "outputs": [
        {
          "output_type": "stream",
          "text": [
            "Enter a string: refrigerator\n",
            "Length of the input string is: 12\n"
          ],
          "name": "stdout"
        }
      ]
    }
  ]
}